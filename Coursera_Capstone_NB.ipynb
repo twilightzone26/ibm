{
    "cells": [
        {
            "metadata": {},
            "cell_type": "markdown",
            "source": "Assignment Requirement:\n\nWrite some markdown to explain that this notebook will be mainly used for the capstone project.\n\nImport the pandas library as pd.\n\nImport the Numpy library as np.\n\nPrint the following the statement: Hello Capstone Project Course!\n"
        },
        {
            "metadata": {},
            "cell_type": "markdown",
            "source": "# This is a coursera capstone project"
        },
        {
            "metadata": {},
            "cell_type": "code",
            "source": "import pandas as pd\nimport numpy as np\nprint(\"Hello Capstone Project Course!\")\n\n",
            "execution_count": 1,
            "outputs": [
                {
                    "name": "stdout",
                    "output_type": "stream",
                    "text": "Hello Capstone Project Course!\n"
                }
            ]
        },
        {
            "metadata": {},
            "cell_type": "code",
            "source": "",
            "execution_count": null,
            "outputs": []
        }
    ],
    "metadata": {
        "kernelspec": {
            "name": "python3",
            "display_name": "Python 3.6",
            "language": "python"
        },
        "language_info": {
            "name": "python",
            "version": "3.6.9",
            "mimetype": "text/x-python",
            "codemirror_mode": {
                "name": "ipython",
                "version": 3
            },
            "pygments_lexer": "ipython3",
            "nbconvert_exporter": "python",
            "file_extension": ".py"
        }
    },
    "nbformat": 4,
    "nbformat_minor": 2
}